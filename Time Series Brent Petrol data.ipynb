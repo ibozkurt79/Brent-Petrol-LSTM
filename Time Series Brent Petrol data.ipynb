{
    "nbformat_minor": 1, 
    "cells": [
        {
            "source": "https://github.com/IBM/coursera/blob/master/coursera_ai/week3/lstm_crude_oil_price_prediction.ipynb", 
            "cell_type": "markdown", 
            "metadata": {}
        }, 
        {
            "execution_count": 7, 
            "cell_type": "code", 
            "metadata": {}, 
            "outputs": [
                {
                    "execution_count": 7, 
                    "metadata": {}, 
                    "data": {
                        "text/html": "<div>\n<style scoped>\n    .dataframe tbody tr th:only-of-type {\n        vertical-align: middle;\n    }\n\n    .dataframe tbody tr th {\n        vertical-align: top;\n    }\n\n    .dataframe thead th {\n        text-align: right;\n    }\n</style>\n<table border=\"1\" class=\"dataframe\">\n  <thead>\n    <tr style=\"text-align: right;\">\n      <th></th>\n      <th>DATE</th>\n      <th>DCOILBRENTEU</th>\n    </tr>\n  </thead>\n  <tbody>\n    <tr>\n      <th>0</th>\n      <td>1987-05-20</td>\n      <td>18.63</td>\n    </tr>\n    <tr>\n      <th>1</th>\n      <td>1987-05-21</td>\n      <td>18.45</td>\n    </tr>\n    <tr>\n      <th>2</th>\n      <td>1987-05-22</td>\n      <td>18.55</td>\n    </tr>\n    <tr>\n      <th>3</th>\n      <td>1987-05-25</td>\n      <td>18.60</td>\n    </tr>\n    <tr>\n      <th>4</th>\n      <td>1987-05-26</td>\n      <td>18.63</td>\n    </tr>\n  </tbody>\n</table>\n</div>", 
                        "text/plain": "         DATE DCOILBRENTEU\n0  1987-05-20        18.63\n1  1987-05-21        18.45\n2  1987-05-22        18.55\n3  1987-05-25        18.60\n4  1987-05-26        18.63"
                    }, 
                    "output_type": "execute_result"
                }
            ], 
            "source": "# The code was removed by Watson Studio for sharing."
        }, 
        {
            "execution_count": 8, 
            "cell_type": "code", 
            "metadata": {}, 
            "outputs": [], 
            "source": "import numpy as np\nimport matplotlib.pyplot as plt\n%matplotlib inline"
        }, 
        {
            "execution_count": 9, 
            "cell_type": "code", 
            "metadata": {}, 
            "outputs": [
                {
                    "execution_count": 9, 
                    "metadata": {}, 
                    "data": {
                        "text/plain": "(8285, 2)"
                    }, 
                    "output_type": "execute_result"
                }
            ], 
            "source": "df_data_1.shape"
        }, 
        {
            "execution_count": 10, 
            "cell_type": "code", 
            "metadata": {}, 
            "outputs": [
                {
                    "output_type": "stream", 
                    "name": "stdout", 
                    "text": "(8059, 2)\n"
                }
            ], 
            "source": "df_data_1=df_data_1[df_data_1.DCOILBRENTEU!=\".\"]\nprint (df_data_1.shape)"
        }, 
        {
            "execution_count": 11, 
            "cell_type": "code", 
            "metadata": {}, 
            "outputs": [
                {
                    "output_type": "display_data", 
                    "data": {
                        "image/png": "[encoded data removed]", 
                        "text/plain": "<matplotlib.figure.Figure at 0x7fa0d95eec88>"
                    }, 
                    "metadata": {}
                }
            ], 
            "source": "df_data_1_plot = df_data_1.iloc[:,1].values.astype(float)\n\n# visualising the data\nplt.plot(df_data_1_plot, color='red', label='Crude Oil Prices')\nplt.title('Crude Oil Prices Historical Data')\nplt.xlabel('Time(Days)')\nplt.ylabel('Crude Oil Prices')\nplt.legend()\nplt.show()"
        }, 
        {
            "execution_count": 12, 
            "cell_type": "code", 
            "metadata": {}, 
            "outputs": [], 
            "source": "from keras.preprocessing import sequence"
        }, 
        {
            "source": "### Stateful vs. Stateless LSTM\nStateless: LSTM updates parameters on batch 1 and then initiates cell states (meaning - memory, usually with zeros) for batch 2\nStateful: it uses batch 1 last output cell sates as initial states for batch 2.\nWhen to use which?\u00b6\nWhen sequences in batches are related to each other (e.g. prices of one commodity), we should better use stateful mode\nElse, when one sequence represents a complete sentence, we should go with stateless mode\n### Batch-size: which batch-size to choose?\nVery important decision!\n\nImagine, you must learn to recognize a bird... You are presented images of different birds.\n\nWhat would you prefer:\n\nTo see the one image at a time, make your notes about special bird quilities (set your weights) and then see another bird and so on\nOR may be you would better learn if you see - let's say 5 - bird images at ones. May be then you can faster notice the bird's intrinsic properties?\nI'd say - the second method is more efficient for humans. We need more examples of an entitiy, that we have to distinguish.\n\nSo the machines! Therefore we select a batch size of 64. Batch size impacts the prediction accuracy.", 
            "cell_type": "markdown", 
            "metadata": {}
        }, 
        {
            "execution_count": 13, 
            "cell_type": "code", 
            "metadata": {}, 
            "outputs": [], 
            "source": "# defining batch size and number of epochs\nbatch_size= 64\nepochs=120\ntimesteps=10"
        }, 
        {
            "source": "### Batch-Size and training set size", 
            "cell_type": "markdown", 
            "metadata": {}
        }, 
        {
            "execution_count": 14, 
            "cell_type": "code", 
            "metadata": {}, 
            "outputs": [
                {
                    "output_type": "stream", 
                    "name": "stdout", 
                    "text": "8059\n7253.1\n"
                }
            ], 
            "source": "length= len(df_data_1)\nprint(length)\nlength *= 1-0.1\nprint(length)"
        }, 
        {
            "execution_count": 15, 
            "cell_type": "code", 
            "metadata": {}, 
            "outputs": [
                {
                    "execution_count": 15, 
                    "metadata": {}, 
                    "data": {
                        "text/plain": "113.328125"
                    }, 
                    "output_type": "execute_result"
                }
            ], 
            "source": "7253.0/64.0"
        }, 
        {
            "execution_count": 16, 
            "cell_type": "code", 
            "metadata": {}, 
            "outputs": [
                {
                    "execution_count": 16, 
                    "metadata": {}, 
                    "data": {
                        "text/plain": "7232"
                    }, 
                    "output_type": "execute_result"
                }
            ], 
            "source": "113*64"
        }, 
        {
            "execution_count": 17, 
            "cell_type": "code", 
            "metadata": {}, 
            "outputs": [
                {
                    "execution_count": 17, 
                    "metadata": {}, 
                    "data": {
                        "text/plain": "0.0"
                    }, 
                    "output_type": "execute_result"
                }
            ], 
            "source": "7232.0%64.0"
        }, 
        {
            "execution_count": 18, 
            "cell_type": "code", 
            "metadata": {}, 
            "outputs": [], 
            "source": "def get_train_length (dataset, batch_size, test_percent):\n    # substract test_percent to be excluded from training, reserved for testset\n    length= len(dataset)\n    length *= 1-test_percent\n    train_length_values= []\n    for x in range(int(length)-100, int(length)):\n        modulo= x%batch_size\n        if (modulo ==0):\n            train_length_values.append(x)\n            print(x)\n    return max(train_length_values)"
        }, 
        {
            "execution_count": 19, 
            "cell_type": "code", 
            "metadata": {}, 
            "outputs": [
                {
                    "output_type": "stream", 
                    "name": "stdout", 
                    "text": "7168\n7232\n"
                }
            ], 
            "source": "length=get_train_length(df_data_1, batch_size, 0.1)"
        }, 
        {
            "execution_count": 20, 
            "cell_type": "code", 
            "metadata": {}, 
            "outputs": [
                {
                    "execution_count": 20, 
                    "metadata": {}, 
                    "data": {
                        "text/plain": "(7252, 1)"
                    }, 
                    "output_type": "execute_result"
                }
            ], 
            "source": "# Adding timesteps *2 \nupper_train= length + timesteps*2\ndf_data_1_train=df_data_1[0:upper_train]\ntraining_set= df_data_1_train.iloc[:, 1:2].values\ntraining_set.shape"
        }, 
        {
            "execution_count": 21, 
            "cell_type": "code", 
            "metadata": {}, 
            "outputs": [
                {
                    "execution_count": 21, 
                    "metadata": {}, 
                    "data": {
                        "text/plain": "(7252, 1)"
                    }, 
                    "output_type": "execute_result"
                }
            ], 
            "source": "# Feature Scaling\nfrom sklearn.preprocessing import MinMaxScaler\nsc=MinMaxScaler(feature_range=(0,1))\ntraining_set_scaled= sc.fit_transform(np.float64(training_set))\ntraining_set_scaled.shape"
        }, 
        {
            "execution_count": 22, 
            "cell_type": "code", 
            "metadata": {}, 
            "outputs": [
                {
                    "output_type": "stream", 
                    "name": "stdout", 
                    "text": "7242\n7232\n7232\n"
                }
            ], 
            "source": "X_train=[]\ny_train=[]\n\n# creating a data structure with n timesteps\nprint (length+timesteps)\nfor i in range(timesteps, length+timesteps): # timesteps=10\n    X_train.append(training_set_scaled[i-timesteps:i,0])\n    y_train.append(training_set_scaled[i:i+timesteps,0])\nprint (len(X_train))\nprint (len(y_train))"
        }, 
        {
            "execution_count": 23, 
            "cell_type": "code", 
            "metadata": {}, 
            "outputs": [
                {
                    "output_type": "stream", 
                    "name": "stdout", 
                    "text": "(7232, 10, 1)\n(7232, 10, 1)\n"
                }
            ], 
            "source": "# Reshaping to 3D since LSTM accept 3D samples. 3th dimension is 1 since we are predicting one variable\nX_train, y_train = np.array(X_train), np.array(y_train) # change list to np array\nX_train=np.reshape(X_train, (X_train.shape[0], X_train.shape[1], 1))\ny_train=np.reshape(y_train, (y_train.shape[0], y_train.shape[1], 1))\nprint(X_train.shape)\nprint(y_train.shape)"
        }, 
        {
            "execution_count": 24, 
            "cell_type": "code", 
            "metadata": {}, 
            "outputs": [], 
            "source": "# Import Keras Libraries\nfrom keras.layers import Dense\nfrom keras.layers import Input, LSTM\nfrom keras.models import Model\nimport h5py\n"
        }, 
        {
            "execution_count": 25, 
            "cell_type": "code", 
            "metadata": {}, 
            "outputs": [
                {
                    "output_type": "stream", 
                    "name": "stdout", 
                    "text": "_________________________________________________________________\nLayer (type)                 Output Shape              Param #   \n=================================================================\ninput_1 (InputLayer)         (64, 10, 1)               0         \n_________________________________________________________________\nlstm_1 (LSTM)                (64, 10, 10)              480       \n_________________________________________________________________\nlstm_2 (LSTM)                (64, 10, 10)              840       \n_________________________________________________________________\ndense_1 (Dense)              (64, 10, 1)               11        \n=================================================================\nTotal params: 1,331\nTrainable params: 1,331\nNon-trainable params: 0\n_________________________________________________________________\n"
                }
            ], 
            "source": "# initializing the LSTM Model with MAE Loss-Function\n# Using functional API (instead of Sequential one)\n\ninput_1_mae=Input(batch_shape=(batch_size, timesteps, 1)) # 1 dim, we are prediction one variable, number of variables\nlstm_1_mae= LSTM(10, stateful=True, return_sequences=True) (input_1_mae) # 1 means number of nodes(memory cell), it might be more\nlstm_2_mae= LSTM(10, stateful=True, return_sequences=True) (lstm_1_mae)\n\noutput_1_mae= Dense(units=1) (lstm_2_mae) # units=1 bc we are predicting one dep. variable\n\nregressor_mae= Model(inputs= input_1_mae, outputs=output_1_mae) # model takes 2 layers; input layer and output layer\n\nregressor_mae.compile(optimizer='adam', loss='mae')\nregressor_mae.summary()"
        }, 
        {
            "execution_count": 26, 
            "cell_type": "code", 
            "metadata": {}, 
            "outputs": [], 
            "source": "# this import due to the limited resources in the free tier and the heavy resource consumption of Keras.\n#This is a workaround to limit resource consumption\n\nfrom keras import backend as K\nK.set_session(K.tf.Session(config=K.tf.ConfigProto(intra_op_parallelism_threads=1, inter_op_parallelism_threads=1)))"
        }, 
        {
            "source": "http://colah.github.io/posts/2015-08-Understanding-LSTMs/", 
            "cell_type": "markdown", 
            "metadata": {}
        }, 
        {
            "execution_count": 27, 
            "cell_type": "code", 
            "metadata": {}, 
            "outputs": [
                {
                    "output_type": "stream", 
                    "name": "stdout", 
                    "text": "480\n"
                }
            ], 
            "source": "# 1st LSTM Layer\nparameters = 4 * 10 * (1 + 10 + 1)\nprint(parameters)"
        }, 
        {
            "source": "\\begin{equation}\n\n  \\textbf{PARAMETERS} = \\textbf4 \\times \\textbf{ LSTM outputs size} \\times (\\textbf{weights LSTM inputs size} + \\textbf{weights LSTM outputs size} + 1 \\textbf{ bias variable})\n\\end{equation}", 
            "cell_type": "raw", 
            "metadata": {}
        }, 
        {
            "execution_count": 28, 
            "cell_type": "code", 
            "metadata": {}, 
            "outputs": [
                {
                    "output_type": "stream", 
                    "name": "stdout", 
                    "text": "840\n"
                }
            ], 
            "source": "parameters = 4 * 10 * (10 + 10 + 1)\nprint(parameters)"
        }, 
        {
            "execution_count": 29, 
            "cell_type": "code", 
            "metadata": {}, 
            "outputs": [
                {
                    "output_type": "stream", 
                    "name": "stdout", 
                    "text": "Epoch: 0\nEpoch 1/1\n7232/7232 [==============================] - 2s 258us/step - loss: 0.0720\nEpoch: 1\nEpoch 1/1\n7232/7232 [==============================] - 2s 213us/step - loss: 0.0869\nEpoch: 2\nEpoch 1/1\n7232/7232 [==============================] - 2s 211us/step - loss: 0.0740\nEpoch: 3\nEpoch 1/1\n7232/7232 [==============================] - 2s 209us/step - loss: 0.0653\nEpoch: 4\nEpoch 1/1\n7232/7232 [==============================] - 2s 209us/step - loss: 0.0591\nEpoch: 5\nEpoch 1/1\n7232/7232 [==============================] - 2s 211us/step - loss: 0.0547\nEpoch: 6\nEpoch 1/1\n7232/7232 [==============================] - 2s 220us/step - loss: 0.0510\nEpoch: 7\nEpoch 1/1\n7232/7232 [==============================] - 2s 210us/step - loss: 0.0478\nEpoch: 8\nEpoch 1/1\n7232/7232 [==============================] - 2s 208us/step - loss: 0.0456\nEpoch: 9\nEpoch 1/1\n7232/7232 [==============================] - 2s 209us/step - loss: 0.0441\nEpoch: 10\nEpoch 1/1\n7232/7232 [==============================] - 2s 211us/step - loss: 0.0432\nEpoch: 11\nEpoch 1/1\n7232/7232 [==============================] - 2s 220us/step - loss: 0.0424\nEpoch: 12\nEpoch 1/1\n7232/7232 [==============================] - 2s 218us/step - loss: 0.0416\nEpoch: 13\nEpoch 1/1\n7232/7232 [==============================] - 2s 212us/step - loss: 0.0407\nEpoch: 14\nEpoch 1/1\n7232/7232 [==============================] - 2s 210us/step - loss: 0.0398\nEpoch: 15\nEpoch 1/1\n7232/7232 [==============================] - 2s 210us/step - loss: 0.0390\nEpoch: 16\nEpoch 1/1\n7232/7232 [==============================] - 2s 212us/step - loss: 0.0384\nEpoch: 17\nEpoch 1/1\n7232/7232 [==============================] - 2s 212us/step - loss: 0.0377\nEpoch: 18\nEpoch 1/1\n7232/7232 [==============================] - 2s 210us/step - loss: 0.0370\nEpoch: 19\nEpoch 1/1\n7232/7232 [==============================] - 2s 214us/step - loss: 0.0364\nEpoch: 20\nEpoch 1/1\n7232/7232 [==============================] - 2s 211us/step - loss: 0.0359\nEpoch: 21\nEpoch 1/1\n7232/7232 [==============================] - 2s 210us/step - loss: 0.0353\nEpoch: 22\nEpoch 1/1\n7232/7232 [==============================] - 2s 210us/step - loss: 0.0347\nEpoch: 23\nEpoch 1/1\n7232/7232 [==============================] - 2s 211us/step - loss: 0.0341\nEpoch: 24\nEpoch 1/1\n7232/7232 [==============================] - 2s 211us/step - loss: 0.0335\nEpoch: 25\nEpoch 1/1\n7232/7232 [==============================] - 2s 209us/step - loss: 0.0331\nEpoch: 26\nEpoch 1/1\n7232/7232 [==============================] - 2s 217us/step - loss: 0.0327\nEpoch: 27\nEpoch 1/1\n7232/7232 [==============================] - 2s 210us/step - loss: 0.0323\nEpoch: 28\nEpoch 1/1\n7232/7232 [==============================] - 2s 210us/step - loss: 0.0319\nEpoch: 29\nEpoch 1/1\n7232/7232 [==============================] - 2s 210us/step - loss: 0.0316\nEpoch: 30\nEpoch 1/1\n7232/7232 [==============================] - 2s 209us/step - loss: 0.0312\nEpoch: 31\nEpoch 1/1\n7232/7232 [==============================] - 2s 208us/step - loss: 0.0310\nEpoch: 32\nEpoch 1/1\n7232/7232 [==============================] - 2s 211us/step - loss: 0.0307\nEpoch: 33\nEpoch 1/1\n7232/7232 [==============================] - 2s 213us/step - loss: 0.0304\nEpoch: 34\nEpoch 1/1\n7232/7232 [==============================] - 2s 210us/step - loss: 0.0301\nEpoch: 35\nEpoch 1/1\n7232/7232 [==============================] - 2s 210us/step - loss: 0.0299\nEpoch: 36\nEpoch 1/1\n7232/7232 [==============================] - 2s 211us/step - loss: 0.0297\nEpoch: 37\nEpoch 1/1\n7232/7232 [==============================] - 2s 211us/step - loss: 0.0293\nEpoch: 38\nEpoch 1/1\n7232/7232 [==============================] - 2s 209us/step - loss: 0.0290\nEpoch: 39\nEpoch 1/1\n7232/7232 [==============================] - 2s 213us/step - loss: 0.0284\nEpoch: 40\nEpoch 1/1\n7232/7232 [==============================] - 2s 213us/step - loss: 0.0283\nEpoch: 41\nEpoch 1/1\n7232/7232 [==============================] - 2s 211us/step - loss: 0.0277\nEpoch: 42\nEpoch 1/1\n7232/7232 [==============================] - 2s 211us/step - loss: 0.0276\nEpoch: 43\nEpoch 1/1\n7232/7232 [==============================] - 2s 210us/step - loss: 0.0273\nEpoch: 44\nEpoch 1/1\n7232/7232 [==============================] - 2s 210us/step - loss: 0.0272\nEpoch: 45\nEpoch 1/1\n7232/7232 [==============================] - 2s 210us/step - loss: 0.0270\nEpoch: 46\nEpoch 1/1\n7232/7232 [==============================] - 2s 209us/step - loss: 0.0268\nEpoch: 47\nEpoch 1/1\n7232/7232 [==============================] - 2s 215us/step - loss: 0.0266\nEpoch: 48\nEpoch 1/1\n7232/7232 [==============================] - 2s 212us/step - loss: 0.0264\nEpoch: 49\nEpoch 1/1\n7232/7232 [==============================] - 2s 211us/step - loss: 0.0262\nEpoch: 50\nEpoch 1/1\n7232/7232 [==============================] - 2s 211us/step - loss: 0.0260\nEpoch: 51\nEpoch 1/1\n7232/7232 [==============================] - 2s 211us/step - loss: 0.0258\nEpoch: 52\nEpoch 1/1\n7232/7232 [==============================] - 2s 210us/step - loss: 0.0257\nEpoch: 53\nEpoch 1/1\n7232/7232 [==============================] - 2s 212us/step - loss: 0.0255\nEpoch: 54\nEpoch 1/1\n7232/7232 [==============================] - 2s 215us/step - loss: 0.0254\nEpoch: 55\nEpoch 1/1\n7232/7232 [==============================] - 2s 213us/step - loss: 0.0253\nEpoch: 56\nEpoch 1/1\n7232/7232 [==============================] - 2s 211us/step - loss: 0.0252\nEpoch: 57\nEpoch 1/1\n7232/7232 [==============================] - 2s 210us/step - loss: 0.0251\nEpoch: 58\nEpoch 1/1\n7232/7232 [==============================] - 2s 215us/step - loss: 0.0249\nEpoch: 59\nEpoch 1/1\n7232/7232 [==============================] - 2s 210us/step - loss: 0.0248\nEpoch: 60\nEpoch 1/1\n7232/7232 [==============================] - 2s 209us/step - loss: 0.0247\nEpoch: 61\nEpoch 1/1\n7232/7232 [==============================] - 2s 211us/step - loss: 0.0246\nEpoch: 62\nEpoch 1/1\n7232/7232 [==============================] - 2s 213us/step - loss: 0.0244\nEpoch: 63\nEpoch 1/1\n7232/7232 [==============================] - 2s 210us/step - loss: 0.0243\nEpoch: 64\nEpoch 1/1\n7232/7232 [==============================] - 2s 208us/step - loss: 0.0241\nEpoch: 65\nEpoch 1/1\n7232/7232 [==============================] - 2s 208us/step - loss: 0.0240\nEpoch: 66\nEpoch 1/1\n7232/7232 [==============================] - 2s 209us/step - loss: 0.0239\nEpoch: 67\nEpoch 1/1\n7232/7232 [==============================] - 2s 209us/step - loss: 0.0238\nEpoch: 68\nEpoch 1/1\n7232/7232 [==============================] - 2s 214us/step - loss: 0.0237\nEpoch: 69\nEpoch 1/1\n7232/7232 [==============================] - 2s 211us/step - loss: 0.0235\nEpoch: 70\nEpoch 1/1\n7232/7232 [==============================] - 2s 210us/step - loss: 0.0234\nEpoch: 71\nEpoch 1/1\n7232/7232 [==============================] - 2s 211us/step - loss: 0.0232\nEpoch: 72\nEpoch 1/1\n7232/7232 [==============================] - 2s 209us/step - loss: 0.0231\nEpoch: 73\nEpoch 1/1\n7232/7232 [==============================] - 2s 210us/step - loss: 0.0230\nEpoch: 74\nEpoch 1/1\n7232/7232 [==============================] - 2s 209us/step - loss: 0.0229\nEpoch: 75\nEpoch 1/1\n7232/7232 [==============================] - 2s 214us/step - loss: 0.0228\nEpoch: 76\nEpoch 1/1\n7232/7232 [==============================] - 2s 211us/step - loss: 0.0227\nEpoch: 77\nEpoch 1/1\n7232/7232 [==============================] - 2s 211us/step - loss: 0.0226\nEpoch: 78\nEpoch 1/1\n7232/7232 [==============================] - 2s 213us/step - loss: 0.0225\nEpoch: 79\nEpoch 1/1\n7232/7232 [==============================] - 2s 213us/step - loss: 0.0224\nEpoch: 80\nEpoch 1/1\n7232/7232 [==============================] - 2s 211us/step - loss: 0.0223\nEpoch: 81\nEpoch 1/1\n7232/7232 [==============================] - 2s 209us/step - loss: 0.0221\nEpoch: 82\nEpoch 1/1\n7232/7232 [==============================] - 2s 211us/step - loss: 0.0221\nEpoch: 83\nEpoch 1/1\n7232/7232 [==============================] - 2s 208us/step - loss: 0.0221\nEpoch: 84\nEpoch 1/1\n7232/7232 [==============================] - 2s 209us/step - loss: 0.0220\nEpoch: 85\nEpoch 1/1\n7232/7232 [==============================] - 2s 211us/step - loss: 0.0220\nEpoch: 86\nEpoch 1/1\n7232/7232 [==============================] - 2s 210us/step - loss: 0.0220\nEpoch: 87\nEpoch 1/1\n7232/7232 [==============================] - 2s 209us/step - loss: 0.0218\nEpoch: 88\nEpoch 1/1\n7232/7232 [==============================] - 2s 211us/step - loss: 0.0219\nEpoch: 89\nEpoch 1/1\n7232/7232 [==============================] - 2s 211us/step - loss: 0.0218\nEpoch: 90\nEpoch 1/1\n7232/7232 [==============================] - 2s 211us/step - loss: 0.0217\nEpoch: 91\nEpoch 1/1\n7232/7232 [==============================] - 2s 222us/step - loss: 0.0217\nEpoch: 92\nEpoch 1/1\n7232/7232 [==============================] - 2s 214us/step - loss: 0.0216\nEpoch: 93\nEpoch 1/1\n7232/7232 [==============================] - 2s 211us/step - loss: 0.0214\nEpoch: 94\nEpoch 1/1\n7232/7232 [==============================] - 2s 209us/step - loss: 0.0214\nEpoch: 95\nEpoch 1/1\n7232/7232 [==============================] - 2s 209us/step - loss: 0.0213\nEpoch: 96\nEpoch 1/1\n7232/7232 [==============================] - 2s 224us/step - loss: 0.0212\nEpoch: 97\nEpoch 1/1\n7232/7232 [==============================] - 2s 211us/step - loss: 0.0214\nEpoch: 98\nEpoch 1/1\n7232/7232 [==============================] - 2s 211us/step - loss: 0.0212\nEpoch: 99\nEpoch 1/1\n7232/7232 [==============================] - 2s 211us/step - loss: 0.0211\nEpoch: 100\nEpoch 1/1\n7232/7232 [==============================] - 2s 214us/step - loss: 0.0214\nEpoch: 101\nEpoch 1/1\n7232/7232 [==============================] - 2s 209us/step - loss: 0.0210\nEpoch: 102\nEpoch 1/1\n7232/7232 [==============================] - 2s 210us/step - loss: 0.0209\nEpoch: 103\nEpoch 1/1\n7232/7232 [==============================] - 2s 212us/step - loss: 0.0211\nEpoch: 104\nEpoch 1/1\n7232/7232 [==============================] - 2s 215us/step - loss: 0.0208\nEpoch: 105\nEpoch 1/1\n7232/7232 [==============================] - 2s 226us/step - loss: 0.0208\nEpoch: 106\nEpoch 1/1\n7232/7232 [==============================] - 2s 228us/step - loss: 0.0210\nEpoch: 107\nEpoch 1/1\n7232/7232 [==============================] - 2s 211us/step - loss: 0.0208\nEpoch: 108\nEpoch 1/1\n7232/7232 [==============================] - 2s 212us/step - loss: 0.0208\nEpoch: 109\nEpoch 1/1\n7232/7232 [==============================] - 2s 211us/step - loss: 0.0209\nEpoch: 110\nEpoch 1/1\n7232/7232 [==============================] - 2s 215us/step - loss: 0.0208\nEpoch: 111\nEpoch 1/1\n7232/7232 [==============================] - 2s 212us/step - loss: 0.0208\nEpoch: 112\nEpoch 1/1\n7232/7232 [==============================] - 2s 209us/step - loss: 0.0208\nEpoch: 113\nEpoch 1/1\n7232/7232 [==============================] - 2s 211us/step - loss: 0.0208\nEpoch: 114\nEpoch 1/1\n7232/7232 [==============================] - 2s 213us/step - loss: 0.0209\nEpoch: 115\nEpoch 1/1\n7232/7232 [==============================] - 2s 209us/step - loss: 0.0209\nEpoch: 116\nEpoch 1/1\n7232/7232 [==============================] - 2s 213us/step - loss: 0.0208\nEpoch: 117\nEpoch 1/1\n7232/7232 [==============================] - 2s 218us/step - loss: 0.0209\nEpoch: 118\nEpoch 1/1\n7232/7232 [==============================] - 2s 209us/step - loss: 0.0208\nEpoch: 119\nEpoch 1/1\n7232/7232 [==============================] - 2s 210us/step - loss: 0.0209\n"
                }
            ], 
            "source": "#Statefull\nfor i in range(epochs):\n    print(\"Epoch: \" + str(i))\n    #run through all data but the cell, hidden state are used for the next batch.\n    regressor_mae.fit(X_train, y_train, shuffle=False, epochs = 1, batch_size = batch_size)\n    #resets only the states but the weights, cell and hidden are kept.\n    regressor_mae.reset_states()\n    \n#Stateless\n#between the batches the cell and hidden states are lost.\n#regressor_mae.fit(X_train, y_train, shuffle=False, epochs = epochs, batch_size = batch_size)"
        }, 
        {
            "execution_count": 49, 
            "cell_type": "code", 
            "metadata": {}, 
            "outputs": [], 
            "source": "# save the model\nimport h5py\nregressor_mae.save(filepath='my_model_with_mae_30_ts.h5')"
        }, 
        {
            "execution_count": 50, 
            "cell_type": "code", 
            "metadata": {}, 
            "outputs": [], 
            "source": "# load model\nfrom keras.models import load_model\n\nregressor_mae=load_model(filepath='my_model_with_mae_30_ts.h5')"
        }, 
        {
            "execution_count": 51, 
            "cell_type": "code", 
            "metadata": {}, 
            "outputs": [], 
            "source": "def get_test_length(dataset, batch_size):\n    \n    test_length_values = []\n    for x in range(len(dataset) - 200, len(dataset) - timesteps*2): \n        modulo=(x-upper_train)%batch_size\n        if (modulo == 0):\n            test_length_values.append(x)\n            print(x)\n    return (max(test_length_values))"
        }, 
        {
            "execution_count": 52, 
            "cell_type": "code", 
            "metadata": {}, 
            "outputs": [
                {
                    "output_type": "stream", 
                    "name": "stdout", 
                    "text": "7892\n7956\n8020\n8020\n768\n"
                }
            ], 
            "source": "test_length = get_test_length(df_data_1, batch_size)\nprint(test_length)\nupper_test = test_length + timesteps*2\ntestset_length = test_length - upper_train\nprint(testset_length)"
        }, 
        {
            "execution_count": 53, 
            "cell_type": "code", 
            "metadata": {}, 
            "outputs": [
                {
                    "output_type": "stream", 
                    "name": "stdout", 
                    "text": "7252 8040 8059\n"
                }
            ], 
            "source": "print(upper_train, upper_test, len(df_data_1))"
        }, 
        {
            "execution_count": 55, 
            "cell_type": "code", 
            "metadata": {}, 
            "outputs": [
                {
                    "output_type": "stream", 
                    "name": "stdout", 
                    "text": "(768, 10, 1)\n"
                }
            ], 
            "source": "# construct test set\n\n#subsetting\ndf_data_1_test = df_data_1[upper_train:upper_test] \ntest_set = df_data_1_test.iloc[:,1:2].values\n\n#scaling\nscaled_real_bcg_values_test = sc.fit_transform(np.float64(test_set))\n\n#creating input data\nX_test = []\nfor i in range(timesteps, testset_length + timesteps):\n    X_test.append(scaled_real_bcg_values_test[i-timesteps:i, 0])\nX_test = np.array(X_test)\n\n\n#reshaping\nX_test = np.reshape(X_test, (X_test.shape[0], X_test.shape[1], 1))\nprint(X_test.shape)"
        }, 
        {
            "execution_count": 60, 
            "cell_type": "code", 
            "metadata": {}, 
            "outputs": [
                {
                    "output_type": "stream", 
                    "name": "stdout", 
                    "text": "(768, 10, 1)\n(768, 10)\n(758, 1)\n"
                }
            ], 
            "source": "# predition\npredicted_bcg_values_test_mae= regressor_mae.predict(X_test, batch_size= batch_size)\nregressor_mae.reset_states()\n\nprint(predicted_bcg_values_test_mae.shape)\n\n#reshaping\npredicted_bcg_values_test_mae= np.reshape(predicted_bcg_values_test_mae,\n                                         (predicted_bcg_values_test_mae.shape[0],\n                                         predicted_bcg_values_test_mae.shape[1]))\nprint(predicted_bcg_values_test_mae.shape)\n\n# inverse transform\npredicted_bcg_values_test_mae= sc.inverse_transform(predicted_bcg_values_test_mae)\n\n# creating y_test data\ny_test=[]\nfor j in range(0, testset_length-timesteps):\n    y_test= np.append(y_test, predicted_bcg_values_test_mae[j, timesteps-1]) # timesteps-1 equals to 9 columns in predicted . values and appends to y_test\n    \n# reshaping\ny_test= np.reshape(y_test, (y_test.shape[0], 1))\n\nprint(y_test.shape)\n"
        }, 
        {
            "execution_count": 72, 
            "cell_type": "code", 
            "metadata": {}, 
            "outputs": [
                {
                    "execution_count": 72, 
                    "metadata": {}, 
                    "data": {
                        "text/plain": "40.801048"
                    }, 
                    "output_type": "execute_result"
                }
            ], 
            "source": "Visualising the results"
        }, 
        {
            "execution_count": 75, 
            "cell_type": "code", 
            "metadata": {}, 
            "outputs": [
                {
                    "output_type": "stream", 
                    "name": "stdout", 
                    "text": "2.435996416666942\n"
                }
            ], 
            "source": "# MSE\nimport math\nfrom sklearn.metrics import mean_squared_error\nrmse= math.sqrt(mean_squared_error(test_set[timesteps:len(y_test)], y_test[0:len(y_test)-timesteps]))\n\nprint(rmse)"
        }, 
        {
            "execution_count": null, 
            "cell_type": "code", 
            "metadata": {}, 
            "outputs": [], 
            "source": ""
        }, 
        {
            "execution_count": null, 
            "cell_type": "code", 
            "metadata": {}, 
            "outputs": [], 
            "source": ""
        }, 
        {
            "execution_count": null, 
            "cell_type": "code", 
            "metadata": {}, 
            "outputs": [], 
            "source": ""
        }, 
        {
            "execution_count": null, 
            "cell_type": "code", 
            "metadata": {}, 
            "outputs": [], 
            "source": ""
        }, 
        {
            "execution_count": null, 
            "cell_type": "code", 
            "metadata": {}, 
            "outputs": [], 
            "source": ""
        }
    ], 
    "metadata": {
        "kernelspec": {
            "display_name": "Python 3.5", 
            "name": "python3", 
            "language": "python"
        }, 
        "language_info": {
            "mimetype": "text/x-python", 
            "nbconvert_exporter": "python", 
            "version": "3.5.5", 
            "name": "python", 
            "file_extension": ".py", 
            "pygments_lexer": "ipython3", 
            "codemirror_mode": {
                "version": 3, 
                "name": "ipython"
            }
        }
    }, 
    "nbformat": 4
}